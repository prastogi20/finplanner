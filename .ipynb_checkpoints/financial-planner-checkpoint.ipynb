{
 "cells": [
  {
   "cell_type": "markdown",
   "metadata": {},
   "source": [
    "# Unit 5 - Financial Planning"
   ]
  },
  {
   "cell_type": "code",
   "execution_count": 1,
   "metadata": {},
   "outputs": [],
   "source": [
    "# Initial imports\n",
    "import pandas as pd\n",
    "from MCForecastTools import MCSimulation\n",
    "from apitools import APIcalls\n",
    "from pathlib import Path\n",
    "import json\n",
    "\n",
    "%matplotlib inline"
   ]
  },
  {
   "cell_type": "code",
   "execution_count": 2,
   "metadata": {},
   "outputs": [
    {
     "data": {
      "text/plain": [
       "\u001b[0;31mInit signature:\u001b[0m \u001b[0mAPIcalls\u001b[0m\u001b[0;34m(\u001b[0m\u001b[0menvpath\u001b[0m\u001b[0;34m:\u001b[0m \u001b[0mpathlib\u001b[0m\u001b[0;34m.\u001b[0m\u001b[0mPath\u001b[0m \u001b[0;34m=\u001b[0m \u001b[0;32mNone\u001b[0m\u001b[0;34m)\u001b[0m\u001b[0;34m\u001b[0m\u001b[0;34m\u001b[0m\u001b[0m\n",
       "\u001b[0;31mDocstring:\u001b[0m     \n",
       "A python class for fetching data using requests library & alpaca api \n",
       "\n",
       "Constructor : initalizes & load environment\n",
       "              params: envpath - optional parameter for environment file Path\n",
       "...\n",
       "\n",
       "Functions    \n",
       "----------\n",
       "get_cryptos_price :fetches data e.g. prices, volume using request library\n",
       "                   params : urls - dictionary of { <symbol> : <url to make request call>}\n",
       "                   returns: dictionary of {<symbol> : <response json object}\n",
       "                   \n",
       "get_alpaca_bars : Create the Alpaca API object & Get tickers data by using alpca sdk method get_bars\n",
       "                  params: tickers - list of string that represents tickers symbols\n",
       "                          timeframe - represents duration for which data is required e.g. \"1Day\"\n",
       "                          startdate - string type, represents start date\n",
       "                          enddate - string type, represents end date        \n",
       "                  return : DataFrame containing ticker historical data fetched from alpaca api\n",
       "\u001b[0;31mFile:\u001b[0m           ~/Workfolder_Pragya/Bootcamp/Homework/gitrepos/finplanner/apitools.py\n",
       "\u001b[0;31mType:\u001b[0m           type\n",
       "\u001b[0;31mSubclasses:\u001b[0m     \n"
      ]
     },
     "metadata": {},
     "output_type": "display_data"
    }
   ],
   "source": [
    "# Initialization of APIcalls, Load .env enviroment variables & Set alpca key and secret key\n",
    "apic = APIcalls()"
   ]
  },
  {
   "cell_type": "markdown",
   "metadata": {},
   "source": [
    "## Part 1 - Personal Finance Planner"
   ]
  },
  {
   "cell_type": "markdown",
   "metadata": {},
   "source": [
    "### Collect Crypto Prices Using the `requests` Library"
   ]
  },
  {
   "cell_type": "code",
   "execution_count": 3,
   "metadata": {},
   "outputs": [],
   "source": [
    "# Set current amount of crypto assets\n",
    "my_btc = 1.2\n",
    "my_eth = 5.3"
   ]
  },
  {
   "cell_type": "code",
   "execution_count": 4,
   "metadata": {},
   "outputs": [],
   "source": [
    "# Crypto API URLs\n",
    "btc_url = \"https://api.alternative.me/v2/ticker/Bitcoin/?convert=CAD\"\n",
    "eth_url = \"https://api.alternative.me/v2/ticker/Ethereum/?convert=CAD\""
   ]
  },
  {
   "cell_type": "code",
   "execution_count": 5,
   "metadata": {},
   "outputs": [
    {
     "name": "stdout",
     "output_type": "stream",
     "text": [
      "The current value of your 1.2 BTC is $36474.96\n",
      "The current value of your 5.3 ETH is $11573.73\n"
     ]
    }
   ],
   "source": [
    "# use APIcalls method to make request calls to get crypto data\n",
    "crypto_data = apic.get_data_request({'BTC':btc_url,'ETH':eth_url})\n",
    "\n",
    "# print(json.dumps(crypto_data[\"ETH\"],indent=4))\n",
    "\n",
    "# Fetch current BTC price\n",
    "btc_rate_cad = [v[\"quotes\"][\"CAD\"][\"price\"] for k,v in crypto_data[\"BTC\"][\"data\"].items() if(v[\"symbol\"] == \"BTC\")][0]\n",
    "\n",
    "# Fetch current ETH price\n",
    "eth_rate_cad = [v[\"quotes\"][\"CAD\"][\"price\"] for k,v in crypto_data[\"ETH\"][\"data\"].items() if(v[\"symbol\"] == \"ETH\")][0]\n",
    "\n",
    "# Compute current value of my crpto\n",
    "my_btc_value = my_btc * btc_rate_cad\n",
    "my_eth_value = my_eth * eth_rate_cad\n",
    "\n",
    "\n",
    "# Print current crypto wallet balance\n",
    "print(f\"The current value of your {my_btc} BTC is ${my_btc_value:0.2f}\")\n",
    "print(f\"The current value of your {my_eth} ETH is ${my_eth_value:0.2f}\")"
   ]
  },
  {
   "cell_type": "markdown",
   "metadata": {},
   "source": [
    "### Collect Investments Data Using Alpaca: `SPY` (stocks) and `AGG` (bonds)"
   ]
  },
  {
   "cell_type": "code",
   "execution_count": 6,
   "metadata": {},
   "outputs": [],
   "source": [
    "# Set current amount of shares\n",
    "my_agg = 200\n",
    "my_spy = 50"
   ]
  },
  {
   "cell_type": "code",
   "execution_count": 7,
   "metadata": {},
   "outputs": [
    {
     "data": {
      "text/html": [
       "<div>\n",
       "<style scoped>\n",
       "    .dataframe tbody tr th:only-of-type {\n",
       "        vertical-align: middle;\n",
       "    }\n",
       "\n",
       "    .dataframe tbody tr th {\n",
       "        vertical-align: top;\n",
       "    }\n",
       "\n",
       "    .dataframe thead tr th {\n",
       "        text-align: left;\n",
       "    }\n",
       "\n",
       "    .dataframe thead tr:last-of-type th {\n",
       "        text-align: right;\n",
       "    }\n",
       "</style>\n",
       "<table border=\"1\" class=\"dataframe\">\n",
       "  <thead>\n",
       "    <tr>\n",
       "      <th></th>\n",
       "      <th colspan=\"7\" halign=\"left\">AGG</th>\n",
       "      <th colspan=\"7\" halign=\"left\">SPY</th>\n",
       "    </tr>\n",
       "    <tr>\n",
       "      <th></th>\n",
       "      <th>open</th>\n",
       "      <th>high</th>\n",
       "      <th>low</th>\n",
       "      <th>close</th>\n",
       "      <th>volume</th>\n",
       "      <th>trade_count</th>\n",
       "      <th>vwap</th>\n",
       "      <th>open</th>\n",
       "      <th>high</th>\n",
       "      <th>low</th>\n",
       "      <th>close</th>\n",
       "      <th>volume</th>\n",
       "      <th>trade_count</th>\n",
       "      <th>vwap</th>\n",
       "    </tr>\n",
       "    <tr>\n",
       "      <th>timestamp</th>\n",
       "      <th></th>\n",
       "      <th></th>\n",
       "      <th></th>\n",
       "      <th></th>\n",
       "      <th></th>\n",
       "      <th></th>\n",
       "      <th></th>\n",
       "      <th></th>\n",
       "      <th></th>\n",
       "      <th></th>\n",
       "      <th></th>\n",
       "      <th></th>\n",
       "      <th></th>\n",
       "      <th></th>\n",
       "    </tr>\n",
       "  </thead>\n",
       "  <tbody>\n",
       "    <tr>\n",
       "      <th>2022-07-27 04:00:00+00:00</th>\n",
       "      <td>103.19</td>\n",
       "      <td>103.64</td>\n",
       "      <td>103.18</td>\n",
       "      <td>103.32</td>\n",
       "      <td>5098243</td>\n",
       "      <td>18390</td>\n",
       "      <td>103.358408</td>\n",
       "      <td>394.43</td>\n",
       "      <td>402.88</td>\n",
       "      <td>394.05</td>\n",
       "      <td>401.04</td>\n",
       "      <td>81319074</td>\n",
       "      <td>587430</td>\n",
       "      <td>398.307462</td>\n",
       "    </tr>\n",
       "  </tbody>\n",
       "</table>\n",
       "</div>"
      ],
      "text/plain": [
       "                              AGG                                   \\\n",
       "                             open    high     low   close   volume   \n",
       "timestamp                                                            \n",
       "2022-07-27 04:00:00+00:00  103.19  103.64  103.18  103.32  5098243   \n",
       "\n",
       "                                                      SPY                  \\\n",
       "                          trade_count        vwap    open    high     low   \n",
       "timestamp                                                                   \n",
       "2022-07-27 04:00:00+00:00       18390  103.358408  394.43  402.88  394.05   \n",
       "\n",
       "                                                                     \n",
       "                            close    volume trade_count        vwap  \n",
       "timestamp                                                            \n",
       "2022-07-27 04:00:00+00:00  401.04  81319074      587430  398.307462  "
      ]
     },
     "execution_count": 7,
     "metadata": {},
     "output_type": "execute_result"
    }
   ],
   "source": [
    "# Format current date as ISO format\n",
    "today = pd.Timestamp(\"2022-07-27\", tz=\"America/New_York\").isoformat()\n",
    "\n",
    "# Set the tickers\n",
    "tickers = ['AGG', 'SPY']\n",
    "\n",
    "# Set timeframe to \"1Day\" for Alpaca API\n",
    "timeframe = \"1Day\"\n",
    "\n",
    "# use APTcalls method to get data from alpca api\n",
    "tickers_df = apic.get_alpaca_bars(tickers,timeframe,today,today)\n",
    "\n",
    "# Reorganize the DataFrame\n",
    "# Separate ticker data\n",
    "AGG = tickers_df[tickers_df['symbol']=='AGG'].drop('symbol',axis=1)\n",
    "SPY = tickers_df[tickers_df['symbol']=='SPY'].drop('symbol',axis=1)\n",
    "# Concatenate the ticker DataFrames\n",
    "tickers_df = pd.concat([AGG,SPY],axis=1,keys=['AGG','SPY'])\n",
    "tickers_df"
   ]
  },
  {
   "cell_type": "code",
   "execution_count": 8,
   "metadata": {},
   "outputs": [
    {
     "name": "stdout",
     "output_type": "stream",
     "text": [
      "Current AGG closing price: $103.32\n",
      "Current SPY closing price: $401.04\n"
     ]
    }
   ],
   "source": [
    "# Pick AGG and SPY close prices\n",
    "agg_close_price = float(tickers_df['AGG']['close'])\n",
    "spy_close_price = float(tickers_df['SPY']['close'])\n",
    "# Print AGG and SPY close prices\n",
    "print(f\"Current AGG closing price: ${agg_close_price}\")\n",
    "print(f\"Current SPY closing price: ${spy_close_price}\")"
   ]
  },
  {
   "cell_type": "code",
   "execution_count": 9,
   "metadata": {},
   "outputs": [
    {
     "name": "stdout",
     "output_type": "stream",
     "text": [
      "The current value of your 50 SPY shares is $20052.00\n",
      "The current value of your 200 AGG shares is $20664.00\n"
     ]
    }
   ],
   "source": [
    "# Compute the current value of shares\n",
    "# YOUR CODE HERE!\n",
    "my_spy_value = my_spy * spy_close_price\n",
    "my_agg_value = my_agg * agg_close_price\n",
    "# Print current value of shares\n",
    "print(f\"The current value of your {my_spy} SPY shares is ${my_spy_value:0.2f}\")\n",
    "print(f\"The current value of your {my_agg} AGG shares is ${my_agg_value:0.2f}\")"
   ]
  },
  {
   "cell_type": "markdown",
   "metadata": {},
   "source": [
    "### Savings Health Analysis"
   ]
  },
  {
   "cell_type": "code",
   "execution_count": 10,
   "metadata": {},
   "outputs": [
    {
     "data": {
      "text/html": [
       "<div>\n",
       "<style scoped>\n",
       "    .dataframe tbody tr th:only-of-type {\n",
       "        vertical-align: middle;\n",
       "    }\n",
       "\n",
       "    .dataframe tbody tr th {\n",
       "        vertical-align: top;\n",
       "    }\n",
       "\n",
       "    .dataframe thead th {\n",
       "        text-align: right;\n",
       "    }\n",
       "</style>\n",
       "<table border=\"1\" class=\"dataframe\">\n",
       "  <thead>\n",
       "    <tr style=\"text-align: right;\">\n",
       "      <th></th>\n",
       "      <th>amount</th>\n",
       "    </tr>\n",
       "  </thead>\n",
       "  <tbody>\n",
       "    <tr>\n",
       "      <th>crypto</th>\n",
       "      <td>48048.692445</td>\n",
       "    </tr>\n",
       "    <tr>\n",
       "      <th>shares</th>\n",
       "      <td>40716.000000</td>\n",
       "    </tr>\n",
       "  </tbody>\n",
       "</table>\n",
       "</div>"
      ],
      "text/plain": [
       "              amount\n",
       "crypto  48048.692445\n",
       "shares  40716.000000"
      ]
     },
     "metadata": {},
     "output_type": "display_data"
    }
   ],
   "source": [
    "# Set monthly household income\n",
    "monthly_income = 12000\n",
    "\n",
    "# Consolidate financial assets data\n",
    "crypto_wallet = my_btc_value + my_eth_value\n",
    "shares_value = my_spy_value + my_agg_value\n",
    "fin_assets = {'crypto': crypto_wallet , \n",
    "              'shares' : shares_value}\n",
    "\n",
    "# Create savings DataFrame\n",
    "df_savings = pd.DataFrame.from_dict(fin_assets, orient='index', columns=['amount'])\n",
    "\n",
    "# Display savings DataFrame\n",
    "display(df_savings)"
   ]
  },
  {
   "cell_type": "code",
   "execution_count": 11,
   "metadata": {},
   "outputs": [
    {
     "data": {
      "text/plain": [
       "array([<AxesSubplot:ylabel='amount'>], dtype=object)"
      ]
     },
     "execution_count": 11,
     "metadata": {},
     "output_type": "execute_result"
    },
    {
     "data": {
      "image/png": "[encoded data removed]",
      "text/plain": [
       "<Figure size 432x288 with 1 Axes>"
      ]
     },
     "metadata": {},
     "output_type": "display_data"
    }
   ],
   "source": [
    "# Plot savings pie chart\n",
    "df_savings.plot.pie(title = 'Savings composition ',\n",
    "                    subplots=True,                     \n",
    "                    autopct= lambda p : '{:.2f}%'.format((p))\n",
    "                   )"
   ]
  },
  {
   "cell_type": "code",
   "execution_count": 12,
   "metadata": {},
   "outputs": [
    {
     "name": "stdout",
     "output_type": "stream",
     "text": [
      "Congratulations your savings exceed your target savings\n"
     ]
    }
   ],
   "source": [
    "# Set ideal emergency fund\n",
    "emergency_fund = monthly_income * 3\n",
    "\n",
    "# Calculate total amount of savings\n",
    "total_savings = crypto_wallet + shares_value\n",
    "\n",
    "# Validate saving health\n",
    "if(emergency_fund < total_savings ):\n",
    "    print(\"Congratulations your savings exceed your target savings\")\n",
    "elif(emergency_fund == total_savings ):\n",
    "    print(\"Congratulations you met your saving target\")\n",
    "else:\n",
    "    short = emergency_fund - total_savings\n",
    "    print(f\"You are ${short:0.2F} away from your personal goal\")"
   ]
  },
  {
   "cell_type": "markdown",
   "metadata": {},
   "source": [
    "## Part 2 - Retirement Planning\n",
    "\n",
    "### Monte Carlo Simulation"
   ]
  },
  {
   "cell_type": "code",
   "execution_count": 13,
   "metadata": {},
   "outputs": [],
   "source": [
    "# Set start and end dates of five years back from today.\n",
    "# Sample results may vary from the solution based on the time frame chosen\n",
    "start_date = pd.Timestamp('2017-07-27', tz='America/New_York').isoformat()\n",
    "end_date = pd.Timestamp('2022-07-27', tz='America/New_York').isoformat()"
   ]
  },
  {
   "cell_type": "code",
   "execution_count": 14,
   "metadata": {},
   "outputs": [
    {
     "data": {
      "text/html": [
       "<div>\n",
       "<style scoped>\n",
       "    .dataframe tbody tr th:only-of-type {\n",
       "        vertical-align: middle;\n",
       "    }\n",
       "\n",
       "    .dataframe tbody tr th {\n",
       "        vertical-align: top;\n",
       "    }\n",
       "\n",
       "    .dataframe thead tr th {\n",
       "        text-align: left;\n",
       "    }\n",
       "\n",
       "    .dataframe thead tr:last-of-type th {\n",
       "        text-align: right;\n",
       "    }\n",
       "</style>\n",
       "<table border=\"1\" class=\"dataframe\">\n",
       "  <thead>\n",
       "    <tr>\n",
       "      <th></th>\n",
       "      <th colspan=\"7\" halign=\"left\">AGG</th>\n",
       "      <th colspan=\"7\" halign=\"left\">SPY</th>\n",
       "    </tr>\n",
       "    <tr>\n",
       "      <th></th>\n",
       "      <th>open</th>\n",
       "      <th>high</th>\n",
       "      <th>low</th>\n",
       "      <th>close</th>\n",
       "      <th>volume</th>\n",
       "      <th>trade_count</th>\n",
       "      <th>vwap</th>\n",
       "      <th>open</th>\n",
       "      <th>high</th>\n",
       "      <th>low</th>\n",
       "      <th>close</th>\n",
       "      <th>volume</th>\n",
       "      <th>trade_count</th>\n",
       "      <th>vwap</th>\n",
       "    </tr>\n",
       "    <tr>\n",
       "      <th>timestamp</th>\n",
       "      <th></th>\n",
       "      <th></th>\n",
       "      <th></th>\n",
       "      <th></th>\n",
       "      <th></th>\n",
       "      <th></th>\n",
       "      <th></th>\n",
       "      <th></th>\n",
       "      <th></th>\n",
       "      <th></th>\n",
       "      <th></th>\n",
       "      <th></th>\n",
       "      <th></th>\n",
       "      <th></th>\n",
       "    </tr>\n",
       "  </thead>\n",
       "  <tbody>\n",
       "    <tr>\n",
       "      <th>2017-07-27 04:00:00+00:00</th>\n",
       "      <td>109.53</td>\n",
       "      <td>109.5868</td>\n",
       "      <td>109.4301</td>\n",
       "      <td>109.48</td>\n",
       "      <td>1868732</td>\n",
       "      <td>8993</td>\n",
       "      <td>109.501792</td>\n",
       "      <td>247.96</td>\n",
       "      <td>248.00</td>\n",
       "      <td>245.680</td>\n",
       "      <td>247.20</td>\n",
       "      <td>70766568</td>\n",
       "      <td>255387</td>\n",
       "      <td>246.926137</td>\n",
       "    </tr>\n",
       "    <tr>\n",
       "      <th>2017-07-28 04:00:00+00:00</th>\n",
       "      <td>109.54</td>\n",
       "      <td>109.7000</td>\n",
       "      <td>109.4900</td>\n",
       "      <td>109.70</td>\n",
       "      <td>1894332</td>\n",
       "      <td>8841</td>\n",
       "      <td>109.624742</td>\n",
       "      <td>246.70</td>\n",
       "      <td>247.06</td>\n",
       "      <td>246.130</td>\n",
       "      <td>246.91</td>\n",
       "      <td>50088359</td>\n",
       "      <td>168056</td>\n",
       "      <td>246.714676</td>\n",
       "    </tr>\n",
       "    <tr>\n",
       "      <th>2017-07-31 04:00:00+00:00</th>\n",
       "      <td>109.69</td>\n",
       "      <td>109.7250</td>\n",
       "      <td>109.5800</td>\n",
       "      <td>109.65</td>\n",
       "      <td>2362989</td>\n",
       "      <td>10041</td>\n",
       "      <td>109.667698</td>\n",
       "      <td>247.38</td>\n",
       "      <td>247.48</td>\n",
       "      <td>246.530</td>\n",
       "      <td>246.77</td>\n",
       "      <td>65838659</td>\n",
       "      <td>164615</td>\n",
       "      <td>246.885069</td>\n",
       "    </tr>\n",
       "    <tr>\n",
       "      <th>2017-08-01 04:00:00+00:00</th>\n",
       "      <td>109.38</td>\n",
       "      <td>109.7200</td>\n",
       "      <td>109.3600</td>\n",
       "      <td>109.72</td>\n",
       "      <td>2338876</td>\n",
       "      <td>10476</td>\n",
       "      <td>109.649411</td>\n",
       "      <td>247.45</td>\n",
       "      <td>247.50</td>\n",
       "      <td>246.716</td>\n",
       "      <td>247.32</td>\n",
       "      <td>55050401</td>\n",
       "      <td>151132</td>\n",
       "      <td>247.199252</td>\n",
       "    </tr>\n",
       "    <tr>\n",
       "      <th>2017-08-02 04:00:00+00:00</th>\n",
       "      <td>109.71</td>\n",
       "      <td>109.7700</td>\n",
       "      <td>109.6400</td>\n",
       "      <td>109.64</td>\n",
       "      <td>2253372</td>\n",
       "      <td>8484</td>\n",
       "      <td>109.700965</td>\n",
       "      <td>247.47</td>\n",
       "      <td>247.60</td>\n",
       "      <td>246.370</td>\n",
       "      <td>247.44</td>\n",
       "      <td>47211216</td>\n",
       "      <td>178076</td>\n",
       "      <td>247.109454</td>\n",
       "    </tr>\n",
       "  </tbody>\n",
       "</table>\n",
       "</div>"
      ],
      "text/plain": [
       "                              AGG                                       \\\n",
       "                             open      high       low   close   volume   \n",
       "timestamp                                                                \n",
       "2017-07-27 04:00:00+00:00  109.53  109.5868  109.4301  109.48  1868732   \n",
       "2017-07-28 04:00:00+00:00  109.54  109.7000  109.4900  109.70  1894332   \n",
       "2017-07-31 04:00:00+00:00  109.69  109.7250  109.5800  109.65  2362989   \n",
       "2017-08-01 04:00:00+00:00  109.38  109.7200  109.3600  109.72  2338876   \n",
       "2017-08-02 04:00:00+00:00  109.71  109.7700  109.6400  109.64  2253372   \n",
       "\n",
       "                                                      SPY                   \\\n",
       "                          trade_count        vwap    open    high      low   \n",
       "timestamp                                                                    \n",
       "2017-07-27 04:00:00+00:00        8993  109.501792  247.96  248.00  245.680   \n",
       "2017-07-28 04:00:00+00:00        8841  109.624742  246.70  247.06  246.130   \n",
       "2017-07-31 04:00:00+00:00       10041  109.667698  247.38  247.48  246.530   \n",
       "2017-08-01 04:00:00+00:00       10476  109.649411  247.45  247.50  246.716   \n",
       "2017-08-02 04:00:00+00:00        8484  109.700965  247.47  247.60  246.370   \n",
       "\n",
       "                                                                     \n",
       "                            close    volume trade_count        vwap  \n",
       "timestamp                                                            \n",
       "2017-07-27 04:00:00+00:00  247.20  70766568      255387  246.926137  \n",
       "2017-07-28 04:00:00+00:00  246.91  50088359      168056  246.714676  \n",
       "2017-07-31 04:00:00+00:00  246.77  65838659      164615  246.885069  \n",
       "2017-08-01 04:00:00+00:00  247.32  55050401      151132  247.199252  \n",
       "2017-08-02 04:00:00+00:00  247.44  47211216      178076  247.109454  "
      ]
     },
     "execution_count": 14,
     "metadata": {},
     "output_type": "execute_result"
    }
   ],
   "source": [
    "# Get 5 years' worth of historical data for SPY and AGG\n",
    "df = apic.get_alpaca_bars(tickers,timeframe,start_date,end_date)\n",
    "\n",
    "# Reorganize the DataFrame\n",
    "# Separate ticker data\n",
    "agg = df[df['symbol']=='AGG'].drop('symbol',axis = 1)\n",
    "spy = df[df['symbol'] == 'SPY'].drop('symbol',axis=1)\n",
    "\n",
    "# Concatenate the ticker DataFrames\n",
    "df_stock_data = pd.concat([agg,spy],axis=1,keys=['AGG','SPY'])\n",
    "\n",
    "# Display sample data\n",
    "df_stock_data.head()\n"
   ]
  },
  {
   "cell_type": "code",
   "execution_count": 15,
   "metadata": {},
   "outputs": [],
   "source": [
    "# Configuring a Monte Carlo simulation to forecast 30 years cumulative returns\n",
    "MC_thirtyyear = MCSimulation(\n",
    "    portfolio_data = df_stock_data,\n",
    "    weights = [.40,.60],\n",
    "    num_simulation = 500,\n",
    "    num_trading_days = 252*30\n",
    ")"
   ]
  },
  {
   "cell_type": "code",
   "execution_count": 16,
   "metadata": {},
   "outputs": [
    {
     "data": {
      "text/html": [
       "<div>\n",
       "<style scoped>\n",
       "    .dataframe tbody tr th:only-of-type {\n",
       "        vertical-align: middle;\n",
       "    }\n",
       "\n",
       "    .dataframe tbody tr th {\n",
       "        vertical-align: top;\n",
       "    }\n",
       "\n",
       "    .dataframe thead tr th {\n",
       "        text-align: left;\n",
       "    }\n",
       "\n",
       "    .dataframe thead tr:last-of-type th {\n",
       "        text-align: right;\n",
       "    }\n",
       "</style>\n",
       "<table border=\"1\" class=\"dataframe\">\n",
       "  <thead>\n",
       "    <tr>\n",
       "      <th></th>\n",
       "      <th colspan=\"8\" halign=\"left\">AGG</th>\n",
       "      <th colspan=\"8\" halign=\"left\">SPY</th>\n",
       "    </tr>\n",
       "    <tr>\n",
       "      <th></th>\n",
       "      <th>open</th>\n",
       "      <th>high</th>\n",
       "      <th>low</th>\n",
       "      <th>close</th>\n",
       "      <th>volume</th>\n",
       "      <th>trade_count</th>\n",
       "      <th>vwap</th>\n",
       "      <th>daily_return</th>\n",
       "      <th>open</th>\n",
       "      <th>high</th>\n",
       "      <th>low</th>\n",
       "      <th>close</th>\n",
       "      <th>volume</th>\n",
       "      <th>trade_count</th>\n",
       "      <th>vwap</th>\n",
       "      <th>daily_return</th>\n",
       "    </tr>\n",
       "    <tr>\n",
       "      <th>timestamp</th>\n",
       "      <th></th>\n",
       "      <th></th>\n",
       "      <th></th>\n",
       "      <th></th>\n",
       "      <th></th>\n",
       "      <th></th>\n",
       "      <th></th>\n",
       "      <th></th>\n",
       "      <th></th>\n",
       "      <th></th>\n",
       "      <th></th>\n",
       "      <th></th>\n",
       "      <th></th>\n",
       "      <th></th>\n",
       "      <th></th>\n",
       "      <th></th>\n",
       "    </tr>\n",
       "  </thead>\n",
       "  <tbody>\n",
       "    <tr>\n",
       "      <th>2017-07-27 04:00:00+00:00</th>\n",
       "      <td>109.53</td>\n",
       "      <td>109.5868</td>\n",
       "      <td>109.4301</td>\n",
       "      <td>109.48</td>\n",
       "      <td>1868732</td>\n",
       "      <td>8993</td>\n",
       "      <td>109.501792</td>\n",
       "      <td>NaN</td>\n",
       "      <td>247.96</td>\n",
       "      <td>248.00</td>\n",
       "      <td>245.680</td>\n",
       "      <td>247.20</td>\n",
       "      <td>70766568</td>\n",
       "      <td>255387</td>\n",
       "      <td>246.926137</td>\n",
       "      <td>NaN</td>\n",
       "    </tr>\n",
       "    <tr>\n",
       "      <th>2017-07-28 04:00:00+00:00</th>\n",
       "      <td>109.54</td>\n",
       "      <td>109.7000</td>\n",
       "      <td>109.4900</td>\n",
       "      <td>109.70</td>\n",
       "      <td>1894332</td>\n",
       "      <td>8841</td>\n",
       "      <td>109.624742</td>\n",
       "      <td>0.002009</td>\n",
       "      <td>246.70</td>\n",
       "      <td>247.06</td>\n",
       "      <td>246.130</td>\n",
       "      <td>246.91</td>\n",
       "      <td>50088359</td>\n",
       "      <td>168056</td>\n",
       "      <td>246.714676</td>\n",
       "      <td>-0.001173</td>\n",
       "    </tr>\n",
       "    <tr>\n",
       "      <th>2017-07-31 04:00:00+00:00</th>\n",
       "      <td>109.69</td>\n",
       "      <td>109.7250</td>\n",
       "      <td>109.5800</td>\n",
       "      <td>109.65</td>\n",
       "      <td>2362989</td>\n",
       "      <td>10041</td>\n",
       "      <td>109.667698</td>\n",
       "      <td>-0.000456</td>\n",
       "      <td>247.38</td>\n",
       "      <td>247.48</td>\n",
       "      <td>246.530</td>\n",
       "      <td>246.77</td>\n",
       "      <td>65838659</td>\n",
       "      <td>164615</td>\n",
       "      <td>246.885069</td>\n",
       "      <td>-0.000567</td>\n",
       "    </tr>\n",
       "    <tr>\n",
       "      <th>2017-08-01 04:00:00+00:00</th>\n",
       "      <td>109.38</td>\n",
       "      <td>109.7200</td>\n",
       "      <td>109.3600</td>\n",
       "      <td>109.72</td>\n",
       "      <td>2338876</td>\n",
       "      <td>10476</td>\n",
       "      <td>109.649411</td>\n",
       "      <td>0.000638</td>\n",
       "      <td>247.45</td>\n",
       "      <td>247.50</td>\n",
       "      <td>246.716</td>\n",
       "      <td>247.32</td>\n",
       "      <td>55050401</td>\n",
       "      <td>151132</td>\n",
       "      <td>247.199252</td>\n",
       "      <td>0.002229</td>\n",
       "    </tr>\n",
       "    <tr>\n",
       "      <th>2017-08-02 04:00:00+00:00</th>\n",
       "      <td>109.71</td>\n",
       "      <td>109.7700</td>\n",
       "      <td>109.6400</td>\n",
       "      <td>109.64</td>\n",
       "      <td>2253372</td>\n",
       "      <td>8484</td>\n",
       "      <td>109.700965</td>\n",
       "      <td>-0.000729</td>\n",
       "      <td>247.47</td>\n",
       "      <td>247.60</td>\n",
       "      <td>246.370</td>\n",
       "      <td>247.44</td>\n",
       "      <td>47211216</td>\n",
       "      <td>178076</td>\n",
       "      <td>247.109454</td>\n",
       "      <td>0.000485</td>\n",
       "    </tr>\n",
       "  </tbody>\n",
       "</table>\n",
       "</div>"
      ],
      "text/plain": [
       "                              AGG                                       \\\n",
       "                             open      high       low   close   volume   \n",
       "timestamp                                                                \n",
       "2017-07-27 04:00:00+00:00  109.53  109.5868  109.4301  109.48  1868732   \n",
       "2017-07-28 04:00:00+00:00  109.54  109.7000  109.4900  109.70  1894332   \n",
       "2017-07-31 04:00:00+00:00  109.69  109.7250  109.5800  109.65  2362989   \n",
       "2017-08-01 04:00:00+00:00  109.38  109.7200  109.3600  109.72  2338876   \n",
       "2017-08-02 04:00:00+00:00  109.71  109.7700  109.6400  109.64  2253372   \n",
       "\n",
       "                                                                   SPY  \\\n",
       "                          trade_count        vwap daily_return    open   \n",
       "timestamp                                                                \n",
       "2017-07-27 04:00:00+00:00        8993  109.501792          NaN  247.96   \n",
       "2017-07-28 04:00:00+00:00        8841  109.624742     0.002009  246.70   \n",
       "2017-07-31 04:00:00+00:00       10041  109.667698    -0.000456  247.38   \n",
       "2017-08-01 04:00:00+00:00       10476  109.649411     0.000638  247.45   \n",
       "2017-08-02 04:00:00+00:00        8484  109.700965    -0.000729  247.47   \n",
       "\n",
       "                                                                          \\\n",
       "                             high      low   close    volume trade_count   \n",
       "timestamp                                                                  \n",
       "2017-07-27 04:00:00+00:00  248.00  245.680  247.20  70766568      255387   \n",
       "2017-07-28 04:00:00+00:00  247.06  246.130  246.91  50088359      168056   \n",
       "2017-07-31 04:00:00+00:00  247.48  246.530  246.77  65838659      164615   \n",
       "2017-08-01 04:00:00+00:00  247.50  246.716  247.32  55050401      151132   \n",
       "2017-08-02 04:00:00+00:00  247.60  246.370  247.44  47211216      178076   \n",
       "\n",
       "                                                    \n",
       "                                 vwap daily_return  \n",
       "timestamp                                           \n",
       "2017-07-27 04:00:00+00:00  246.926137          NaN  \n",
       "2017-07-28 04:00:00+00:00  246.714676    -0.001173  \n",
       "2017-07-31 04:00:00+00:00  246.885069    -0.000567  \n",
       "2017-08-01 04:00:00+00:00  247.199252     0.002229  \n",
       "2017-08-02 04:00:00+00:00  247.109454     0.000485  "
      ]
     },
     "execution_count": 16,
     "metadata": {},
     "output_type": "execute_result"
    }
   ],
   "source": [
    "# Printing the simulation input data\n",
    "MC_thirtyyear.portfolio_data.head()"
   ]
  },
  {
   "cell_type": "code",
   "execution_count": null,
   "metadata": {},
   "outputs": [
    {
     "name": "stdout",
     "output_type": "stream",
     "text": [
      "Running Monte Carlo simulation number 0.\n",
      "Running Monte Carlo simulation number 10.\n",
      "Running Monte Carlo simulation number 20.\n",
      "Running Monte Carlo simulation number 30.\n",
      "Running Monte Carlo simulation number 40.\n",
      "Running Monte Carlo simulation number 50.\n",
      "Running Monte Carlo simulation number 60.\n",
      "Running Monte Carlo simulation number 70.\n",
      "Running Monte Carlo simulation number 80.\n",
      "Running Monte Carlo simulation number 90.\n",
      "Running Monte Carlo simulation number 100.\n"
     ]
    },
    {
     "name": "stderr",
     "output_type": "stream",
     "text": [
      "/Users/pragyarastogi/Workfolder_Pragya/Bootcamp/Homework/gitrepos/finplanner/MCForecastTools.py:117: PerformanceWarning: DataFrame is highly fragmented.  This is usually the result of calling `frame.insert` many times, which has poor performance.  Consider joining all columns at once using pd.concat(axis=1) instead.  To get a de-fragmented frame, use `newframe = frame.copy()`\n",
      "  portfolio_cumulative_returns[n] = (1 + sim_df.fillna(0)).cumprod()\n"
     ]
    },
    {
     "name": "stdout",
     "output_type": "stream",
     "text": [
      "Running Monte Carlo simulation number 110.\n",
      "Running Monte Carlo simulation number 120.\n",
      "Running Monte Carlo simulation number 130.\n",
      "Running Monte Carlo simulation number 140.\n",
      "Running Monte Carlo simulation number 150.\n",
      "Running Monte Carlo simulation number 160.\n",
      "Running Monte Carlo simulation number 170.\n",
      "Running Monte Carlo simulation number 180.\n",
      "Running Monte Carlo simulation number 190.\n",
      "Running Monte Carlo simulation number 200.\n",
      "Running Monte Carlo simulation number 210.\n",
      "Running Monte Carlo simulation number 220.\n",
      "Running Monte Carlo simulation number 230.\n",
      "Running Monte Carlo simulation number 240.\n",
      "Running Monte Carlo simulation number 250.\n",
      "Running Monte Carlo simulation number 260.\n",
      "Running Monte Carlo simulation number 270.\n",
      "Running Monte Carlo simulation number 280.\n",
      "Running Monte Carlo simulation number 290.\n"
     ]
    }
   ],
   "source": [
    "# Running a Monte Carlo simulation to forecast 30 years cumulative returns\n",
    "MC_thirtyyear.calc_cumulative_return()"
   ]
  },
  {
   "cell_type": "code",
   "execution_count": null,
   "metadata": {},
   "outputs": [],
   "source": [
    "# Plot simulation outcomes\n",
    "MC_thirtyyear.plot_simulation()"
   ]
  },
  {
   "cell_type": "code",
   "execution_count": null,
   "metadata": {},
   "outputs": [],
   "source": [
    "# Plot probability distribution and confidence intervals\n",
    "MC_thirtyyear.plot_distribution()"
   ]
  },
  {
   "cell_type": "markdown",
   "metadata": {},
   "source": [
    "### Retirement Analysis"
   ]
  },
  {
   "cell_type": "code",
   "execution_count": null,
   "metadata": {},
   "outputs": [],
   "source": [
    "# Fetch summary statistics from the Monte Carlo simulation results\n",
    "mc_scr = MC_thirtyyear.summarize_cumulative_return()\n",
    "\n",
    "# Print summary statistics\n",
    "print(mc_scr)"
   ]
  },
  {
   "cell_type": "markdown",
   "metadata": {},
   "source": [
    "### Calculate the expected portfolio return at the `95%` lower and upper confidence intervals based on a `$20,000` initial investment."
   ]
  },
  {
   "cell_type": "code",
   "execution_count": null,
   "metadata": {},
   "outputs": [],
   "source": [
    "# Set initial investment\n",
    "initial_investment = 20000\n",
    "\n",
    "# Use the lower and upper `95%` confidence intervals to calculate the range of the possible outcomes of our $20,000\n",
    "ci_lower = round(mc_scr[8]*initial_investment,2)\n",
    "ci_upper = round(mc_scr[9]*initial_investment,2)\n",
    "\n",
    "# Print results\n",
    "print(f\"There is a 95% chance that an initial investment of ${initial_investment} in the portfolio\"\n",
    "      f\" over the next 30 years will end within in the range of\"\n",
    "      f\" ${ci_lower} and ${ci_upper}\")"
   ]
  },
  {
   "cell_type": "markdown",
   "metadata": {},
   "source": [
    "### Calculate the expected portfolio return at the `95%` lower and upper confidence intervals based on a `50%` increase in the initial investment."
   ]
  },
  {
   "cell_type": "code",
   "execution_count": null,
   "metadata": {},
   "outputs": [],
   "source": [
    "# Set initial investment\n",
    "initial_investment = 20000 * 1.5\n",
    "\n",
    "# Use the lower and upper `95%` confidence intervals to calculate the range of the possible outcomes of our $30,000\n",
    "ci_lower = round(mc_scr[8]*initial_investment,2)\n",
    "ci_upper = round(mc_scr[9]*initial_investment,2)\n",
    "\n",
    "# Print results\n",
    "print(f\"There is a 95% chance that an initial investment of ${initial_investment} in the portfolio\"\n",
    "      f\" over the next 30 years will end within in the range of\"\n",
    "      f\" ${ci_lower} and ${ci_upper}\")"
   ]
  },
  {
   "cell_type": "markdown",
   "metadata": {},
   "source": [
    "## Optional Challenge - Early Retirement\n",
    "\n",
    "\n",
    "### Five Years Retirement Option"
   ]
  },
  {
   "cell_type": "code",
   "execution_count": null,
   "metadata": {},
   "outputs": [],
   "source": [
    "# Configuring a Monte Carlo simulation to forecast 5 years cumulative returns\n",
    "MC_fiveyear =  MCSimulation(\n",
    "    portfolio_data = df_stock_data,\n",
    "    weights = [.40,.60],\n",
    "    num_simulation = 500,\n",
    "    num_trading_days = 252*5\n",
    ")"
   ]
  },
  {
   "cell_type": "code",
   "execution_count": null,
   "metadata": {},
   "outputs": [],
   "source": [
    "# Running a Monte Carlo simulation to forecast 5 years cumulative returns\n",
    "MC_fiveyear.calc_cumulative_return()"
   ]
  },
  {
   "cell_type": "code",
   "execution_count": null,
   "metadata": {},
   "outputs": [],
   "source": [
    "# Plot simulation outcomes\n",
    "MC_fiveyear.plot_simulation()"
   ]
  },
  {
   "cell_type": "code",
   "execution_count": null,
   "metadata": {},
   "outputs": [],
   "source": [
    "# Plot probability distribution and confidence intervals\n",
    "MC_fiveyear.plot_distribution()"
   ]
  },
  {
   "cell_type": "code",
   "execution_count": null,
   "metadata": {},
   "outputs": [],
   "source": [
    "# Fetch summary statistics from the Monte Carlo simulation results\n",
    "mc_scr = MC_fiveyear.summarize_cumulative_return()\n",
    "\n",
    "# Print summary statistics\n",
    "print(mc_scr)"
   ]
  },
  {
   "cell_type": "code",
   "execution_count": null,
   "metadata": {},
   "outputs": [],
   "source": [
    "# Set initial investment\n",
    "initial_investment = 60000\n",
    "\n",
    "# Use the lower and upper `95%` confidence intervals to calculate the range of the possible outcomes of our $60,000\n",
    "ci_lower_five = round(mc_scr[8] * initial_investment,2)\n",
    "ci_upper_five = round(mc_scr[9] * initial_investment,2)\n",
    "\n",
    "# Print results\n",
    "print(f\"There is a 95% chance that an initial investment of ${initial_investment} in the portfolio\"\n",
    "      f\" over the next 5 years will end within in the range of\"\n",
    "      f\" ${ci_lower_five} and ${ci_upper_five}\")"
   ]
  },
  {
   "cell_type": "markdown",
   "metadata": {},
   "source": [
    "### Ten Years Retirement Option"
   ]
  },
  {
   "cell_type": "code",
   "execution_count": null,
   "metadata": {},
   "outputs": [],
   "source": [
    "# Configuring a Monte Carlo simulation to forecast 10 years cumulative returns\n",
    "MC_tenyear =  MCSimulation(\n",
    "    portfolio_data = df_stock_data,\n",
    "    weights = [.40,.60],\n",
    "    num_simulation = 500,\n",
    "    num_trading_days = 252*10\n",
    ")"
   ]
  },
  {
   "cell_type": "code",
   "execution_count": null,
   "metadata": {},
   "outputs": [],
   "source": [
    "# Running a Monte Carlo simulation to forecast 10 years cumulative returns\n",
    "MC_tenyear.calc_cumulative_return()"
   ]
  },
  {
   "cell_type": "code",
   "execution_count": null,
   "metadata": {},
   "outputs": [],
   "source": [
    "# Plot simulation outcomes\n",
    "MC_tenyear.plot_simulation()"
   ]
  },
  {
   "cell_type": "code",
   "execution_count": null,
   "metadata": {},
   "outputs": [],
   "source": [
    "# Plot probability distribution and confidence intervals\n",
    "MC_tenyear.plot_distribution()"
   ]
  },
  {
   "cell_type": "code",
   "execution_count": null,
   "metadata": {},
   "outputs": [],
   "source": [
    "# Fetch summary statistics from the Monte Carlo simulation results\n",
    "mc_scr = MC_tenyear.summarize_cumulative_return()\n",
    "\n",
    "# Print summary statistics\n",
    "print(mc_scr)"
   ]
  },
  {
   "cell_type": "code",
   "execution_count": null,
   "metadata": {},
   "outputs": [],
   "source": [
    "# Set initial investment\n",
    "initial_investment=60000\n",
    "\n",
    "# Use the lower and upper `95%` confidence intervals to calculate the range of the possible outcomes of our $60,000\n",
    "ci_lower_ten = round(mc_scr[8] * initial_investment,2)\n",
    "ci_upper_ten = round(mc_scr[9] * initial_investment,2)\n",
    "\n",
    "# Print results\n",
    "print(f\"There is a 95% chance that an initial investment of ${initial_investment} in the portfolio\"\n",
    "      f\" over the next 10 years will end within in the range of\"\n",
    "      f\" ${ci_lower_ten} and ${ci_upper_ten}\")"
   ]
  },
  {
   "cell_type": "code",
   "execution_count": null,
   "metadata": {},
   "outputs": [],
   "source": []
  },
  {
   "cell_type": "code",
   "execution_count": null,
   "metadata": {},
   "outputs": [],
   "source": []
  }
 ],
 "metadata": {
  "kernelspec": {
   "display_name": "Python 3 (ipykernel)",
   "language": "python",
   "name": "python3"
  },
  "language_info": {
   "codemirror_mode": {
    "name": "ipython",
    "version": 3
   },
   "file_extension": ".py",
   "mimetype": "text/x-python",
   "name": "python",
   "nbconvert_exporter": "python",
   "pygments_lexer": "ipython3",
   "version": "3.7.13"
  },
  "nteract": {
   "version": "0.28.0"
  }
 },
 "nbformat": 4,
 "nbformat_minor": 4
}
